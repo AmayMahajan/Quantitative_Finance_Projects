{
 "cells": [
  {
   "cell_type": "code",
   "execution_count": 1,
   "id": "f533c2e3",
   "metadata": {},
   "outputs": [],
   "source": [
    "import numpy as np\n",
    "import pandas as pd\n",
    "import pandas_datareader as pdr\n",
    "import matplotlib.pyplot as plt"
   ]
  },
  {
   "cell_type": "code",
   "execution_count": 2,
   "id": "d2b070c4",
   "metadata": {},
   "outputs": [],
   "source": [
    "TSLA = pdr.get_data_yahoo('TSLA')\n",
    "day = np.arange(1,len(TSLA) + 1)"
   ]
  },
  {
   "cell_type": "code",
   "execution_count": 3,
   "id": "31e46088",
   "metadata": {},
   "outputs": [],
   "source": [
    "TSLA['day'] = day\n",
    "TSLA = TSLA[['day','Open', 'High', 'Low','Close']]"
   ]
  },
  {
   "cell_type": "code",
   "execution_count": 4,
   "id": "364ec020",
   "metadata": {},
   "outputs": [
    {
     "data": {
      "text/html": [
       "<div>\n",
       "<style scoped>\n",
       "    .dataframe tbody tr th:only-of-type {\n",
       "        vertical-align: middle;\n",
       "    }\n",
       "\n",
       "    .dataframe tbody tr th {\n",
       "        vertical-align: top;\n",
       "    }\n",
       "\n",
       "    .dataframe thead th {\n",
       "        text-align: right;\n",
       "    }\n",
       "</style>\n",
       "<table border=\"1\" class=\"dataframe\">\n",
       "  <thead>\n",
       "    <tr style=\"text-align: right;\">\n",
       "      <th></th>\n",
       "      <th>day</th>\n",
       "      <th>Open</th>\n",
       "      <th>High</th>\n",
       "      <th>Low</th>\n",
       "      <th>Close</th>\n",
       "    </tr>\n",
       "    <tr>\n",
       "      <th>Date</th>\n",
       "      <th></th>\n",
       "      <th></th>\n",
       "      <th></th>\n",
       "      <th></th>\n",
       "      <th></th>\n",
       "    </tr>\n",
       "  </thead>\n",
       "  <tbody>\n",
       "    <tr>\n",
       "      <th>2017-05-17</th>\n",
       "      <td>1</td>\n",
       "      <td>62.877998</td>\n",
       "      <td>62.925999</td>\n",
       "      <td>61.099998</td>\n",
       "      <td>61.222000</td>\n",
       "    </tr>\n",
       "    <tr>\n",
       "      <th>2017-05-18</th>\n",
       "      <td>2</td>\n",
       "      <td>61.400002</td>\n",
       "      <td>62.787998</td>\n",
       "      <td>61.062000</td>\n",
       "      <td>62.612000</td>\n",
       "    </tr>\n",
       "    <tr>\n",
       "      <th>2017-05-19</th>\n",
       "      <td>3</td>\n",
       "      <td>63.099998</td>\n",
       "      <td>63.299999</td>\n",
       "      <td>62.040001</td>\n",
       "      <td>62.166000</td>\n",
       "    </tr>\n",
       "    <tr>\n",
       "      <th>2017-05-22</th>\n",
       "      <td>4</td>\n",
       "      <td>62.560001</td>\n",
       "      <td>62.874001</td>\n",
       "      <td>61.360001</td>\n",
       "      <td>62.070000</td>\n",
       "    </tr>\n",
       "    <tr>\n",
       "      <th>2017-05-23</th>\n",
       "      <td>5</td>\n",
       "      <td>62.091999</td>\n",
       "      <td>62.146000</td>\n",
       "      <td>60.695999</td>\n",
       "      <td>60.771999</td>\n",
       "    </tr>\n",
       "  </tbody>\n",
       "</table>\n",
       "</div>"
      ],
      "text/plain": [
       "            day       Open       High        Low      Close\n",
       "Date                                                       \n",
       "2017-05-17    1  62.877998  62.925999  61.099998  61.222000\n",
       "2017-05-18    2  61.400002  62.787998  61.062000  62.612000\n",
       "2017-05-19    3  63.099998  63.299999  62.040001  62.166000\n",
       "2017-05-22    4  62.560001  62.874001  61.360001  62.070000\n",
       "2017-05-23    5  62.091999  62.146000  60.695999  60.771999"
      ]
     },
     "execution_count": 4,
     "metadata": {},
     "output_type": "execute_result"
    }
   ],
   "source": [
    "TSLA.head()"
   ]
  },
  {
   "cell_type": "markdown",
   "id": "6dde8df7",
   "metadata": {},
   "source": [
    "# Adding moving average to the dataframe"
   ]
  },
  {
   "cell_type": "markdown",
   "id": "320aeb17",
   "metadata": {},
   "source": [
    "Signal creation => \n",
    "- Using moving average\n",
    "- 2 moving averages: Slow and Fast\n",
    "- Enter a trade when the fast MA goes above slow MA\n",
    "- Clear the position and go short when fast goes below slow MA"
   ]
  },
  {
   "cell_type": "code",
   "execution_count": 5,
   "id": "c6b94722",
   "metadata": {},
   "outputs": [],
   "source": [
    "TSLA['9-day'] = TSLA['Close'].rolling(9).mean().shift()\n",
    "TSLA['21-day'] = TSLA['Close'].rolling(21).mean().shift()\n",
    "#currently has look ahead information\n",
    "#now lookahead is gone since we used the shift()\n"
   ]
  },
  {
   "cell_type": "code",
   "execution_count": 6,
   "id": "23d3d46c",
   "metadata": {},
   "outputs": [
    {
     "data": {
      "text/html": [
       "<div>\n",
       "<style scoped>\n",
       "    .dataframe tbody tr th:only-of-type {\n",
       "        vertical-align: middle;\n",
       "    }\n",
       "\n",
       "    .dataframe tbody tr th {\n",
       "        vertical-align: top;\n",
       "    }\n",
       "\n",
       "    .dataframe thead th {\n",
       "        text-align: right;\n",
       "    }\n",
       "</style>\n",
       "<table border=\"1\" class=\"dataframe\">\n",
       "  <thead>\n",
       "    <tr style=\"text-align: right;\">\n",
       "      <th></th>\n",
       "      <th>day</th>\n",
       "      <th>Open</th>\n",
       "      <th>High</th>\n",
       "      <th>Low</th>\n",
       "      <th>Close</th>\n",
       "      <th>9-day</th>\n",
       "      <th>21-day</th>\n",
       "    </tr>\n",
       "    <tr>\n",
       "      <th>Date</th>\n",
       "      <th></th>\n",
       "      <th></th>\n",
       "      <th></th>\n",
       "      <th></th>\n",
       "      <th></th>\n",
       "      <th></th>\n",
       "      <th></th>\n",
       "    </tr>\n",
       "  </thead>\n",
       "  <tbody>\n",
       "    <tr>\n",
       "      <th>2017-06-14</th>\n",
       "      <td>20</td>\n",
       "      <td>76.218002</td>\n",
       "      <td>76.849998</td>\n",
       "      <td>75.262001</td>\n",
       "      <td>76.132004</td>\n",
       "      <td>71.162666</td>\n",
       "      <td>NaN</td>\n",
       "    </tr>\n",
       "    <tr>\n",
       "      <th>2017-06-15</th>\n",
       "      <td>21</td>\n",
       "      <td>74.500000</td>\n",
       "      <td>75.092003</td>\n",
       "      <td>73.297997</td>\n",
       "      <td>75.068001</td>\n",
       "      <td>72.058000</td>\n",
       "      <td>NaN</td>\n",
       "    </tr>\n",
       "    <tr>\n",
       "      <th>2017-06-16</th>\n",
       "      <td>22</td>\n",
       "      <td>75.596001</td>\n",
       "      <td>75.601997</td>\n",
       "      <td>74.019997</td>\n",
       "      <td>74.279999</td>\n",
       "      <td>72.846667</td>\n",
       "      <td>67.912667</td>\n",
       "    </tr>\n",
       "    <tr>\n",
       "      <th>2017-06-19</th>\n",
       "      <td>23</td>\n",
       "      <td>75.000000</td>\n",
       "      <td>75.339996</td>\n",
       "      <td>73.559998</td>\n",
       "      <td>73.959999</td>\n",
       "      <td>73.381778</td>\n",
       "      <td>68.534476</td>\n",
       "    </tr>\n",
       "    <tr>\n",
       "      <th>2017-06-20</th>\n",
       "      <td>24</td>\n",
       "      <td>75.334000</td>\n",
       "      <td>75.776001</td>\n",
       "      <td>73.945999</td>\n",
       "      <td>74.447998</td>\n",
       "      <td>73.758445</td>\n",
       "      <td>69.074857</td>\n",
       "    </tr>\n",
       "    <tr>\n",
       "      <th>2017-06-21</th>\n",
       "      <td>25</td>\n",
       "      <td>74.870003</td>\n",
       "      <td>75.398003</td>\n",
       "      <td>73.603996</td>\n",
       "      <td>75.279999</td>\n",
       "      <td>74.038222</td>\n",
       "      <td>69.659714</td>\n",
       "    </tr>\n",
       "  </tbody>\n",
       "</table>\n",
       "</div>"
      ],
      "text/plain": [
       "            day       Open       High        Low      Close      9-day  \\\n",
       "Date                                                                     \n",
       "2017-06-14   20  76.218002  76.849998  75.262001  76.132004  71.162666   \n",
       "2017-06-15   21  74.500000  75.092003  73.297997  75.068001  72.058000   \n",
       "2017-06-16   22  75.596001  75.601997  74.019997  74.279999  72.846667   \n",
       "2017-06-19   23  75.000000  75.339996  73.559998  73.959999  73.381778   \n",
       "2017-06-20   24  75.334000  75.776001  73.945999  74.447998  73.758445   \n",
       "2017-06-21   25  74.870003  75.398003  73.603996  75.279999  74.038222   \n",
       "\n",
       "               21-day  \n",
       "Date                   \n",
       "2017-06-14        NaN  \n",
       "2017-06-15        NaN  \n",
       "2017-06-16  67.912667  \n",
       "2017-06-19  68.534476  \n",
       "2017-06-20  69.074857  \n",
       "2017-06-21  69.659714  "
      ]
     },
     "execution_count": 6,
     "metadata": {},
     "output_type": "execute_result"
    }
   ],
   "source": [
    "TSLA[19:25]"
   ]
  },
  {
   "cell_type": "code",
   "execution_count": 7,
   "id": "278b3a2f",
   "metadata": {},
   "outputs": [],
   "source": [
    "TSLA['signal'] = np.where(TSLA['9-day']>TSLA['21-day'],1,0)\n",
    "TSLA['signal'] = np.where(TSLA['9-day']<TSLA['21-day'],-1,TSLA['signal'])\n",
    "TSLA.dropna(inplace=True)"
   ]
  },
  {
   "cell_type": "code",
   "execution_count": 8,
   "id": "8a5d947a",
   "metadata": {},
   "outputs": [
    {
     "data": {
      "text/html": [
       "<div>\n",
       "<style scoped>\n",
       "    .dataframe tbody tr th:only-of-type {\n",
       "        vertical-align: middle;\n",
       "    }\n",
       "\n",
       "    .dataframe tbody tr th {\n",
       "        vertical-align: top;\n",
       "    }\n",
       "\n",
       "    .dataframe thead th {\n",
       "        text-align: right;\n",
       "    }\n",
       "</style>\n",
       "<table border=\"1\" class=\"dataframe\">\n",
       "  <thead>\n",
       "    <tr style=\"text-align: right;\">\n",
       "      <th></th>\n",
       "      <th>day</th>\n",
       "      <th>Open</th>\n",
       "      <th>High</th>\n",
       "      <th>Low</th>\n",
       "      <th>Close</th>\n",
       "      <th>9-day</th>\n",
       "      <th>21-day</th>\n",
       "      <th>signal</th>\n",
       "    </tr>\n",
       "    <tr>\n",
       "      <th>Date</th>\n",
       "      <th></th>\n",
       "      <th></th>\n",
       "      <th></th>\n",
       "      <th></th>\n",
       "      <th></th>\n",
       "      <th></th>\n",
       "      <th></th>\n",
       "      <th></th>\n",
       "    </tr>\n",
       "  </thead>\n",
       "  <tbody>\n",
       "    <tr>\n",
       "      <th>2022-05-10</th>\n",
       "      <td>1255</td>\n",
       "      <td>819.309998</td>\n",
       "      <td>825.359985</td>\n",
       "      <td>774.250000</td>\n",
       "      <td>800.039978</td>\n",
       "      <td>880.070007</td>\n",
       "      <td>943.537147</td>\n",
       "      <td>-1</td>\n",
       "    </tr>\n",
       "    <tr>\n",
       "      <th>2022-05-11</th>\n",
       "      <td>1256</td>\n",
       "      <td>795.000000</td>\n",
       "      <td>809.770020</td>\n",
       "      <td>727.200012</td>\n",
       "      <td>734.000000</td>\n",
       "      <td>871.017782</td>\n",
       "      <td>932.801432</td>\n",
       "      <td>-1</td>\n",
       "    </tr>\n",
       "    <tr>\n",
       "      <th>2022-05-12</th>\n",
       "      <td>1257</td>\n",
       "      <td>701.000000</td>\n",
       "      <td>759.659973</td>\n",
       "      <td>680.000000</td>\n",
       "      <td>728.000000</td>\n",
       "      <td>855.072225</td>\n",
       "      <td>921.280956</td>\n",
       "      <td>-1</td>\n",
       "    </tr>\n",
       "    <tr>\n",
       "      <th>2022-05-13</th>\n",
       "      <td>1258</td>\n",
       "      <td>773.479980</td>\n",
       "      <td>787.349976</td>\n",
       "      <td>751.570007</td>\n",
       "      <td>769.590027</td>\n",
       "      <td>839.210002</td>\n",
       "      <td>908.950003</td>\n",
       "      <td>-1</td>\n",
       "    </tr>\n",
       "    <tr>\n",
       "      <th>2022-05-16</th>\n",
       "      <td>1259</td>\n",
       "      <td>767.159973</td>\n",
       "      <td>769.760010</td>\n",
       "      <td>719.088501</td>\n",
       "      <td>724.369995</td>\n",
       "      <td>824.393338</td>\n",
       "      <td>896.912862</td>\n",
       "      <td>-1</td>\n",
       "    </tr>\n",
       "  </tbody>\n",
       "</table>\n",
       "</div>"
      ],
      "text/plain": [
       "             day        Open        High         Low       Close       9-day  \\\n",
       "Date                                                                           \n",
       "2022-05-10  1255  819.309998  825.359985  774.250000  800.039978  880.070007   \n",
       "2022-05-11  1256  795.000000  809.770020  727.200012  734.000000  871.017782   \n",
       "2022-05-12  1257  701.000000  759.659973  680.000000  728.000000  855.072225   \n",
       "2022-05-13  1258  773.479980  787.349976  751.570007  769.590027  839.210002   \n",
       "2022-05-16  1259  767.159973  769.760010  719.088501  724.369995  824.393338   \n",
       "\n",
       "                21-day  signal  \n",
       "Date                            \n",
       "2022-05-10  943.537147      -1  \n",
       "2022-05-11  932.801432      -1  \n",
       "2022-05-12  921.280956      -1  \n",
       "2022-05-13  908.950003      -1  \n",
       "2022-05-16  896.912862      -1  "
      ]
     },
     "execution_count": 8,
     "metadata": {},
     "output_type": "execute_result"
    }
   ],
   "source": [
    "TSLA.tail()"
   ]
  },
  {
   "cell_type": "markdown",
   "id": "db5ea444",
   "metadata": {},
   "source": [
    "# Returns"
   ]
  },
  {
   "cell_type": "code",
   "execution_count": 9,
   "id": "580f7728",
   "metadata": {},
   "outputs": [],
   "source": [
    "TSLA['returns'] = np.log(TSLA['Close']).diff()\n",
    "TSLA['system_return'] = TSLA['signal'] * TSLA['returns']\n",
    "TSLA['entry'] = TSLA.signal.diff()"
   ]
  },
  {
   "cell_type": "code",
   "execution_count": 10,
   "id": "e122dfb4",
   "metadata": {},
   "outputs": [
    {
     "data": {
      "text/html": [
       "<div>\n",
       "<style scoped>\n",
       "    .dataframe tbody tr th:only-of-type {\n",
       "        vertical-align: middle;\n",
       "    }\n",
       "\n",
       "    .dataframe tbody tr th {\n",
       "        vertical-align: top;\n",
       "    }\n",
       "\n",
       "    .dataframe thead th {\n",
       "        text-align: right;\n",
       "    }\n",
       "</style>\n",
       "<table border=\"1\" class=\"dataframe\">\n",
       "  <thead>\n",
       "    <tr style=\"text-align: right;\">\n",
       "      <th></th>\n",
       "      <th>day</th>\n",
       "      <th>Open</th>\n",
       "      <th>High</th>\n",
       "      <th>Low</th>\n",
       "      <th>Close</th>\n",
       "      <th>9-day</th>\n",
       "      <th>21-day</th>\n",
       "      <th>signal</th>\n",
       "      <th>returns</th>\n",
       "      <th>system_return</th>\n",
       "      <th>entry</th>\n",
       "    </tr>\n",
       "    <tr>\n",
       "      <th>Date</th>\n",
       "      <th></th>\n",
       "      <th></th>\n",
       "      <th></th>\n",
       "      <th></th>\n",
       "      <th></th>\n",
       "      <th></th>\n",
       "      <th></th>\n",
       "      <th></th>\n",
       "      <th></th>\n",
       "      <th></th>\n",
       "      <th></th>\n",
       "    </tr>\n",
       "  </thead>\n",
       "  <tbody>\n",
       "    <tr>\n",
       "      <th>2017-06-16</th>\n",
       "      <td>22</td>\n",
       "      <td>75.596001</td>\n",
       "      <td>75.601997</td>\n",
       "      <td>74.019997</td>\n",
       "      <td>74.279999</td>\n",
       "      <td>72.846667</td>\n",
       "      <td>67.912667</td>\n",
       "      <td>1</td>\n",
       "      <td>NaN</td>\n",
       "      <td>NaN</td>\n",
       "      <td>NaN</td>\n",
       "    </tr>\n",
       "    <tr>\n",
       "      <th>2017-06-19</th>\n",
       "      <td>23</td>\n",
       "      <td>75.000000</td>\n",
       "      <td>75.339996</td>\n",
       "      <td>73.559998</td>\n",
       "      <td>73.959999</td>\n",
       "      <td>73.381778</td>\n",
       "      <td>68.534476</td>\n",
       "      <td>1</td>\n",
       "      <td>-0.004317</td>\n",
       "      <td>-0.004317</td>\n",
       "      <td>0.0</td>\n",
       "    </tr>\n",
       "    <tr>\n",
       "      <th>2017-06-20</th>\n",
       "      <td>24</td>\n",
       "      <td>75.334000</td>\n",
       "      <td>75.776001</td>\n",
       "      <td>73.945999</td>\n",
       "      <td>74.447998</td>\n",
       "      <td>73.758445</td>\n",
       "      <td>69.074857</td>\n",
       "      <td>1</td>\n",
       "      <td>0.006576</td>\n",
       "      <td>0.006576</td>\n",
       "      <td>0.0</td>\n",
       "    </tr>\n",
       "    <tr>\n",
       "      <th>2017-06-21</th>\n",
       "      <td>25</td>\n",
       "      <td>74.870003</td>\n",
       "      <td>75.398003</td>\n",
       "      <td>73.603996</td>\n",
       "      <td>75.279999</td>\n",
       "      <td>74.038222</td>\n",
       "      <td>69.659714</td>\n",
       "      <td>1</td>\n",
       "      <td>0.011114</td>\n",
       "      <td>0.011114</td>\n",
       "      <td>0.0</td>\n",
       "    </tr>\n",
       "    <tr>\n",
       "      <th>2017-06-22</th>\n",
       "      <td>26</td>\n",
       "      <td>75.598000</td>\n",
       "      <td>77.000000</td>\n",
       "      <td>74.713997</td>\n",
       "      <td>76.522003</td>\n",
       "      <td>74.180445</td>\n",
       "      <td>70.288762</td>\n",
       "      <td>1</td>\n",
       "      <td>0.016364</td>\n",
       "      <td>0.016364</td>\n",
       "      <td>0.0</td>\n",
       "    </tr>\n",
       "  </tbody>\n",
       "</table>\n",
       "</div>"
      ],
      "text/plain": [
       "            day       Open       High        Low      Close      9-day  \\\n",
       "Date                                                                     \n",
       "2017-06-16   22  75.596001  75.601997  74.019997  74.279999  72.846667   \n",
       "2017-06-19   23  75.000000  75.339996  73.559998  73.959999  73.381778   \n",
       "2017-06-20   24  75.334000  75.776001  73.945999  74.447998  73.758445   \n",
       "2017-06-21   25  74.870003  75.398003  73.603996  75.279999  74.038222   \n",
       "2017-06-22   26  75.598000  77.000000  74.713997  76.522003  74.180445   \n",
       "\n",
       "               21-day  signal   returns  system_return  entry  \n",
       "Date                                                           \n",
       "2017-06-16  67.912667       1       NaN            NaN    NaN  \n",
       "2017-06-19  68.534476       1 -0.004317      -0.004317    0.0  \n",
       "2017-06-20  69.074857       1  0.006576       0.006576    0.0  \n",
       "2017-06-21  69.659714       1  0.011114       0.011114    0.0  \n",
       "2017-06-22  70.288762       1  0.016364       0.016364    0.0  "
      ]
     },
     "execution_count": 10,
     "metadata": {},
     "output_type": "execute_result"
    }
   ],
   "source": [
    "TSLA.head()"
   ]
  },
  {
   "cell_type": "markdown",
   "id": "3189b517",
   "metadata": {},
   "source": [
    "# Plot trades on time series"
   ]
  },
  {
   "cell_type": "code",
   "execution_count": 11,
   "id": "3c62bbc0",
   "metadata": {},
   "outputs": [
    {
     "data": {
      "text/plain": [
       "<matplotlib.legend.Legend at 0x7fee39163940>"
      ]
     },
     "execution_count": 11,
     "metadata": {},
     "output_type": "execute_result"
    },
    {
     "data": {
      "image/png": "[encoded data removed]",
      "text/plain": [
       "<Figure size 720x360 with 1 Axes>"
      ]
     },
     "metadata": {
      "needs_background": "light"
     },
     "output_type": "display_data"
    }
   ],
   "source": [
    "plt.rcParams['figure.figsize'] = 10,5\n",
    "plt.grid(True, alpha = 0.3)\n",
    "plt.plot(TSLA.iloc[-252:]['Close'],label = 'TSLA')\n",
    "plt.plot(TSLA.iloc[-252:]['9-day'],label = '9 Day MA')\n",
    "plt.plot(TSLA.iloc[-252:]['21-day'],label = '21 Day MA')\n",
    "plt.plot(TSLA[-252:].loc[TSLA.entry == 2].index, TSLA[-252:]['9-day'][TSLA.entry == 2], '^', color = 'g', markersize = 12)\n",
    "plt.plot(TSLA[-252:].loc[TSLA.entry == -2].index, TSLA[-252:]['21-day'][TSLA.entry == -2], 'v', color = 'r', markersize = 12)\n",
    "plt.legend(loc=2)"
   ]
  },
  {
   "cell_type": "markdown",
   "id": "5590d06c",
   "metadata": {},
   "source": [
    "# System vs Buy and Hold "
   ]
  },
  {
   "cell_type": "code",
   "execution_count": 12,
   "id": "0982ecc8",
   "metadata": {},
   "outputs": [
    {
     "data": {
      "text/plain": [
       "<matplotlib.legend.Legend at 0x7fee081f4c10>"
      ]
     },
     "execution_count": 12,
     "metadata": {},
     "output_type": "execute_result"
    },
    {
     "data": {
      "image/png": "[encoded data removed]",
      "text/plain": [
       "<Figure size 720x360 with 1 Axes>"
      ]
     },
     "metadata": {
      "needs_background": "light"
     },
     "output_type": "display_data"
    }
   ],
   "source": [
    "plt.plot(np.exp(TSLA['returns']).cumprod(),label='Buy/Hold')\n",
    "plt.plot(np.exp(TSLA['system_return']).cumprod(),label='System')\n",
    "plt.legend(loc=2)"
   ]
  },
  {
   "cell_type": "code",
   "execution_count": 13,
   "id": "a418f5e2",
   "metadata": {},
   "outputs": [
    {
     "data": {
      "text/plain": [
       "8.751884854891514"
      ]
     },
     "execution_count": 13,
     "metadata": {},
     "output_type": "execute_result"
    }
   ],
   "source": [
    "np.exp(TSLA['returns']).cumprod()[-1] - 1"
   ]
  },
  {
   "cell_type": "code",
   "execution_count": 14,
   "id": "32c8c605",
   "metadata": {},
   "outputs": [
    {
     "data": {
      "text/plain": [
       "13.063025983227783"
      ]
     },
     "execution_count": 14,
     "metadata": {},
     "output_type": "execute_result"
    }
   ],
   "source": [
    "np.exp(TSLA['system_return']).cumprod()[-1] - 1"
   ]
  },
  {
   "cell_type": "code",
   "execution_count": null,
   "id": "9ba2177f",
   "metadata": {},
   "outputs": [],
   "source": []
  }
 ],
 "metadata": {
  "kernelspec": {
   "display_name": "Python 3 (ipykernel)",
   "language": "python",
   "name": "python3"
  },
  "language_info": {
   "codemirror_mode": {
    "name": "ipython",
    "version": 3
   },
   "file_extension": ".py",
   "mimetype": "text/x-python",
   "name": "python",
   "nbconvert_exporter": "python",
   "pygments_lexer": "ipython3",
   "version": "3.9.7"
  }
 },
 "nbformat": 4,
 "nbformat_minor": 5
}
