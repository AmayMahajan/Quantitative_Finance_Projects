{
 "cells": [
  {
   "cell_type": "markdown",
   "id": "ba283111",
   "metadata": {},
   "source": [
    "# Import Dependencies"
   ]
  },
  {
   "cell_type": "code",
   "execution_count": 1,
   "id": "ee51e3f5",
   "metadata": {},
   "outputs": [],
   "source": [
    "import math\n",
    "import numpy as np\n",
    "import pandas as pd\n",
    "import datetime\n",
    "import scipy.stats as stats\n",
    "import matplotlib.pyplot as plt\n",
    "from pandas_datareader import data as pdr"
   ]
  },
  {
   "cell_type": "markdown",
   "id": "873d69b1",
   "metadata": {},
   "source": [
    "# Initial Parameters"
   ]
  },
  {
   "cell_type": "code",
   "execution_count": 11,
   "id": "72c12f3c",
   "metadata": {},
   "outputs": [
    {
     "name": "stdout",
     "output_type": "stream",
     "text": [
      "-0.16712328767123288\n"
     ]
    }
   ],
   "source": [
    "S = 101.15          #stock price\n",
    "K = 98.01           #strike price\n",
    "vol = 0.0991        #volatility (%)\n",
    "r = 0.01            #risk-free rate (%)\n",
    "N = 10              #number of time steps\n",
    "M = 100000            #number of simulations\n",
    "\n",
    "market_value = 3.86 #market price of option\n",
    "T = ((datetime.date(2022,3,17)-datetime.date.today()).days+1)/365    #time in years\n",
    "print(T)"
   ]
  },
  {
   "cell_type": "markdown",
   "id": "491fce18",
   "metadata": {},
   "source": [
    "# Monte Carlo Simulation"
   ]
  },
  {
   "cell_type": "code",
   "execution_count": 12,
   "id": "a1c3637f",
   "metadata": {},
   "outputs": [
    {
     "name": "stdout",
     "output_type": "stream",
     "text": [
      "-0.016712328767123287\n",
      "0.12927617246470166\n",
      "Call value is $3.66 with SE +/- 0.01\n"
     ]
    }
   ],
   "source": [
    "dt = T/N\n",
    "print(dt)\n",
    "nudt = (r - 0.5*vol**2)*dt\n",
    "sqrtdt = math.sqrt(abs(dt))\n",
    "volsdt = vol * sqrtdt\n",
    "lnS = np.log(S)\n",
    "print(sqrtdt)\n",
    "# Standard Error Placeholders\n",
    "sum_CT = 0\n",
    "sum_CT2 = 0\n",
    "\n",
    "# Monte Carlo Method\n",
    "for i in range(M):\n",
    "    lnSt = lnS\n",
    "    for j in range(N):\n",
    "        lnSt = lnSt + nudt + volsdt*np.random.normal()\n",
    "    \n",
    "    ST = np.exp(lnSt)\n",
    "    CT = max(0, ST - K)\n",
    "    sum_CT = sum_CT + CT\n",
    "    sum_CT2 = sum_CT2 + CT*CT\n",
    "\n",
    "# Compute Expectation and SE\n",
    "C0 = np.exp(-r*T)*sum_CT/M\n",
    "sigma = np.sqrt( (sum_CT2 - sum_CT*sum_CT/M)*np.exp(-2*r*T) / (M-1) )\n",
    "SE = sigma/np.sqrt(M)\n",
    "\n",
    "print(\"Call value is ${0} with SE +/- {1}\".format(np.round(C0,2),np.round(SE,2)))"
   ]
  },
  {
   "cell_type": "code",
   "execution_count": null,
   "id": "db4fab93",
   "metadata": {},
   "outputs": [],
   "source": []
  }
 ],
 "metadata": {
  "kernelspec": {
   "display_name": "Python 3 (ipykernel)",
   "language": "python",
   "name": "python3"
  },
  "language_info": {
   "codemirror_mode": {
    "name": "ipython",
    "version": 3
   },
   "file_extension": ".py",
   "mimetype": "text/x-python",
   "name": "python",
   "nbconvert_exporter": "python",
   "pygments_lexer": "ipython3",
   "version": "3.9.7"
  }
 },
 "nbformat": 4,
 "nbformat_minor": 5
}
