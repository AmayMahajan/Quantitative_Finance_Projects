{
 "cells": [
  {
   "cell_type": "code",
   "execution_count": 1,
   "id": "27ca9fda",
   "metadata": {},
   "outputs": [],
   "source": [
    "import numpy as np"
   ]
  },
  {
   "cell_type": "code",
   "execution_count": 2,
   "id": "3bd05597",
   "metadata": {},
   "outputs": [],
   "source": [
    "S = 100\n",
    "T = 1\n",
    "r = 0.05\n",
    "sigma = 0.2\n",
    "Nsimulations = 5000\n",
    "K=100\n",
    "Nsteps = 250"
   ]
  },
  {
   "cell_type": "code",
   "execution_count": 3,
   "id": "55f88c8f",
   "metadata": {},
   "outputs": [],
   "source": [
    "dt = T/Nsteps"
   ]
  },
  {
   "cell_type": "code",
   "execution_count": 4,
   "id": "c114336a",
   "metadata": {},
   "outputs": [],
   "source": [
    "drift = (r-(sigma**2)/2)*dt\n",
    "a = sigma*np.sqrt(dt)\n",
    "\n",
    "x = np.random.normal(0,1,(Nsimulations,Nsteps))"
   ]
  },
  {
   "cell_type": "code",
   "execution_count": 5,
   "id": "675dc00b",
   "metadata": {},
   "outputs": [],
   "source": [
    "Smat = np.zeros((Nsimulations,Nsteps)) #y = simulations\n",
    "Smat[:,0] += S\n",
    "\n",
    "for i in range(1,Nsteps):\n",
    "    Smat[:,i] += Smat[:,i-1] * np.exp(drift + a*x[:,i])"
   ]
  },
  {
   "cell_type": "code",
   "execution_count": 6,
   "id": "e269717d",
   "metadata": {},
   "outputs": [],
   "source": [
    "#payoffs\n",
    "\n",
    "q = Smat[:,-1]-K\n",
    "\n",
    "for i in range(len(q)):\n",
    "    if q[i]<0:\n",
    "        q[i]=0\n",
    "    else:\n",
    "        q[i] = q[i]"
   ]
  },
  {
   "cell_type": "code",
   "execution_count": 7,
   "id": "a91d0ae0",
   "metadata": {},
   "outputs": [],
   "source": [
    "p = -Smat[:,-1]+K\n",
    "\n",
    "for i in range(len(p)):\n",
    "    if p[i]<0:\n",
    "        p[i]=0\n",
    "    else:\n",
    "        p[i] = p[i]"
   ]
  },
  {
   "cell_type": "code",
   "execution_count": 8,
   "id": "b98d9f64",
   "metadata": {},
   "outputs": [
    {
     "name": "stdout",
     "output_type": "stream",
     "text": [
      "10.510945214775097 5.418915258137808\n"
     ]
    }
   ],
   "source": [
    "payoff_call = np.mean(q)\n",
    "payoff_put = np.mean(p)\n",
    "\n",
    "call = payoff_call*np.exp(-r*T)\n",
    "put = payoff_put*np.exp(-r*T)\n",
    "\n",
    "print(call,put)"
   ]
  }
 ],
 "metadata": {
  "kernelspec": {
   "display_name": "Python 3 (ipykernel)",
   "language": "python",
   "name": "python3"
  },
  "language_info": {
   "codemirror_mode": {
    "name": "ipython",
    "version": 3
   },
   "file_extension": ".py",
   "mimetype": "text/x-python",
   "name": "python",
   "nbconvert_exporter": "python",
   "pygments_lexer": "ipython3",
   "version": "3.9.7"
  }
 },
 "nbformat": 4,
 "nbformat_minor": 5
}
